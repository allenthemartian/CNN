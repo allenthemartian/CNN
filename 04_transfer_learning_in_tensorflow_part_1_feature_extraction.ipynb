{
  "nbformat": 4,
  "nbformat_minor": 0,
  "metadata": {
    "colab": {
      "name": "04-transfer-learning-in-tensorflow-part-1-feature-extraction.ipynb",
      "provenance": [],
      "collapsed_sections": [],
      "authorship_tag": "ABX9TyP5X5F2SSvl1A9dO5KuU0dU",
      "include_colab_link": true
    },
    "kernelspec": {
      "name": "python3",
      "display_name": "Python 3"
    },
    "language_info": {
      "name": "python"
    },
    "accelerator": "GPU"
  },
  "cells": [
    {
      "cell_type": "markdown",
      "metadata": {
        "id": "view-in-github",
        "colab_type": "text"
      },
      "source": [
        "<a href=\"https://colab.research.google.com/github/allenthemartian/CNN/blob/main/04_transfer_learning_in_tensorflow_part_1_feature_extraction.ipynb\" target=\"_parent\"><img src=\"https://colab.research.google.com/assets/colab-badge.svg\" alt=\"Open In Colab\"/></a>"
      ]
    },
    {
      "cell_type": "markdown",
      "metadata": {
        "id": "GerzpZF-v3Ec"
      },
      "source": [
        "# Transfer Learning with TensorFlow Part 1: Feature Extraction\n",
        "\n",
        "Transfer Learning is leveraging a working model's existing architecture and learned patterns for our own problem.  \n",
        "\n",
        "There are two main benefits:\n",
        "1. Can leverage an existing NN architecture proven to work on problems similar to our own.  \n",
        "2. Can leverage a working NN architecture which has already learned patterns on similar data to our own, then we can adapt those patterns to our data."
      ]
    },
    {
      "cell_type": "code",
      "metadata": {
        "id": "kVOFg_a7WwZ7"
      },
      "source": [
        "from google.colab.output import eval_js\n",
        "def set_cell_size(height=250):\n",
        "  '''\n",
        "  Resizes the output cell size to desired height.\n",
        "\n",
        "  Args:\n",
        "    `height`: \n",
        "      \n",
        "  '''\n",
        "  height = str(height)\n",
        "  return eval_js(f'google.colab.output.setIframeHeight({height})')"
      ],
      "execution_count": null,
      "outputs": []
    },
    {
      "cell_type": "markdown",
      "metadata": {
        "id": "2prOrB5rxNCq"
      },
      "source": [
        "## Downloading and becoming one with the data"
      ]
    },
    {
      "cell_type": "code",
      "metadata": {
        "colab": {
          "base_uri": "https://localhost:8080/"
        },
        "id": "jAzznoxPxRSo",
        "outputId": "0567f811-9a5e-4dfd-da4d-6e2f130ff48e"
      },
      "source": [
        "# Get data (10% of 10 food classes from Food101)\n",
        "import zipfile\n",
        "\n",
        "# Download the data\n",
        "!wget https://storage.googleapis.com/ztm_tf_course/food_vision/10_food_classes_10_percent.zip\n",
        "\n",
        "# Unzip the downloaded file\n",
        "zip_ref = zipfile.ZipFile(\"10_food_classes_10_percent.zip\")\n",
        "zip_ref.extractall()\n",
        "zip_ref.close()"
      ],
      "execution_count": null,
      "outputs": [
        {
          "output_type": "stream",
          "name": "stdout",
          "text": [
            "--2021-09-06 05:16:38--  https://storage.googleapis.com/ztm_tf_course/food_vision/10_food_classes_10_percent.zip\n",
            "Resolving storage.googleapis.com (storage.googleapis.com)... 142.251.5.128, 74.125.206.128, 64.233.184.128, ...\n",
            "Connecting to storage.googleapis.com (storage.googleapis.com)|142.251.5.128|:443... connected.\n",
            "HTTP request sent, awaiting response... 200 OK\n",
            "Length: 168546183 (161M) [application/zip]\n",
            "Saving to: ‘10_food_classes_10_percent.zip’\n",
            "\n",
            "10_food_classes_10_ 100%[===================>] 160.74M  50.9MB/s    in 3.2s    \n",
            "\n",
            "2021-09-06 05:16:42 (50.9 MB/s) - ‘10_food_classes_10_percent.zip’ saved [168546183/168546183]\n",
            "\n"
          ]
        }
      ]
    },
    {
      "cell_type": "code",
      "metadata": {
        "id": "0HLGFr_LyrCj",
        "colab": {
          "base_uri": "https://localhost:8080/"
        },
        "outputId": "c2da7767-6365-45f4-9675-f46f57cab017"
      },
      "source": [
        "# How many images are there in each directory:\n",
        "\n",
        "import os\n",
        "\n",
        "# Walk through 10 percent data directory and list number of files\n",
        "for dirpath, dirnames, filenames in os.walk(\"10_food_classes_10_percent\"):\n",
        "  print(f\"There are {len(dirnames)} directories and {len(filenames)} images in '{dirpath}'.\")\n"
      ],
      "execution_count": null,
      "outputs": [
        {
          "output_type": "stream",
          "name": "stdout",
          "text": [
            "There are 2 directories and 0 images in '10_food_classes_10_percent'.\n",
            "There are 10 directories and 0 images in '10_food_classes_10_percent/train'.\n",
            "There are 0 directories and 75 images in '10_food_classes_10_percent/train/sushi'.\n",
            "There are 0 directories and 75 images in '10_food_classes_10_percent/train/fried_rice'.\n",
            "There are 0 directories and 75 images in '10_food_classes_10_percent/train/ramen'.\n",
            "There are 0 directories and 75 images in '10_food_classes_10_percent/train/pizza'.\n",
            "There are 0 directories and 75 images in '10_food_classes_10_percent/train/chicken_wings'.\n",
            "There are 0 directories and 75 images in '10_food_classes_10_percent/train/hamburger'.\n",
            "There are 0 directories and 75 images in '10_food_classes_10_percent/train/steak'.\n",
            "There are 0 directories and 75 images in '10_food_classes_10_percent/train/chicken_curry'.\n",
            "There are 0 directories and 75 images in '10_food_classes_10_percent/train/ice_cream'.\n",
            "There are 0 directories and 75 images in '10_food_classes_10_percent/train/grilled_salmon'.\n",
            "There are 10 directories and 0 images in '10_food_classes_10_percent/test'.\n",
            "There are 0 directories and 250 images in '10_food_classes_10_percent/test/sushi'.\n",
            "There are 0 directories and 250 images in '10_food_classes_10_percent/test/fried_rice'.\n",
            "There are 0 directories and 250 images in '10_food_classes_10_percent/test/ramen'.\n",
            "There are 0 directories and 250 images in '10_food_classes_10_percent/test/pizza'.\n",
            "There are 0 directories and 250 images in '10_food_classes_10_percent/test/chicken_wings'.\n",
            "There are 0 directories and 250 images in '10_food_classes_10_percent/test/hamburger'.\n",
            "There are 0 directories and 250 images in '10_food_classes_10_percent/test/steak'.\n",
            "There are 0 directories and 250 images in '10_food_classes_10_percent/test/chicken_curry'.\n",
            "There are 0 directories and 250 images in '10_food_classes_10_percent/test/ice_cream'.\n",
            "There are 0 directories and 250 images in '10_food_classes_10_percent/test/grilled_salmon'.\n"
          ]
        }
      ]
    },
    {
      "cell_type": "markdown",
      "metadata": {
        "id": "BUCggmafN_YY"
      },
      "source": [
        "## Creating data loaders (preparing the data)\n",
        "\n",
        "We'll use the `ImageDataGenerator` class to load in our images in batches.\n"
      ]
    },
    {
      "cell_type": "markdown",
      "metadata": {
        "id": "fti-y8leO-gP"
      },
      "source": [
        "In deep learning, CAPITAL LETTERS are used to denote variables -> Often means: **Hyperparameters**."
      ]
    },
    {
      "cell_type": "code",
      "metadata": {
        "colab": {
          "base_uri": "https://localhost:8080/"
        },
        "id": "Irzne_DlOtbF",
        "outputId": "3532f09c-8799-40ab-9491-724c5aeef731"
      },
      "source": [
        "# Setup data inputs\n",
        "from tensorflow.keras.preprocessing.image import ImageDataGenerator\n",
        "\n",
        "IMAGE_SHAPE = (224, 224)\n",
        "BATCH_SIZE = 32\n",
        "\n",
        "train_dir = \"10_food_classes_10_percent/train/\"\n",
        "test_dir = \"10_food_classes_10_percent/test/\"\n",
        "\n",
        "train_datagen = ImageDataGenerator(rescale=1/255.)\n",
        "test_datagen = ImageDataGenerator(rescale=1/255.)\n",
        "\n",
        "print(\"Training Images: \")\n",
        "train_data_10_percent = train_datagen.flow_from_directory(directory=train_dir,\n",
        "                                                          target_size=IMAGE_SHAPE,\n",
        "                                                          class_mode=\"categorical\",\n",
        "                                                          batch_size=BATCH_SIZE,\n",
        "                                                          shuffle=True)\n",
        "\n",
        "print(\"Testing Images:\")\n",
        "test_data = test_datagen.flow_from_directory(directory=test_dir,\n",
        "                                                        target_size=IMAGE_SHAPE,\n",
        "                                                        class_mode=\"categorical\",\n",
        "                                                        batch_size=BATCH_SIZE,\n",
        "                                                        shuffle=True)"
      ],
      "execution_count": null,
      "outputs": [
        {
          "output_type": "stream",
          "name": "stdout",
          "text": [
            "Training Images: \n",
            "Found 750 images belonging to 10 classes.\n",
            "Testing Images:\n",
            "Found 2500 images belonging to 10 classes.\n"
          ]
        }
      ]
    },
    {
      "cell_type": "markdown",
      "metadata": {
        "id": "rmrEnnVLQk-Z"
      },
      "source": [
        "We have 10 times less examples for our model to learn patterns from."
      ]
    },
    {
      "cell_type": "markdown",
      "metadata": {
        "id": "FWqTXKHdRiBq"
      },
      "source": [
        "## Setting up callbacks (things to run whilst our model trains)\n",
        "\n",
        "Callbacks are extra functionality you can add to your models to be performed during or after training. Some of the most popular callbacks.\n",
        "\n",
        "* Tracking experiments with the **TensorBoard Callback**.\n",
        "> `class TensorBoard`: Enable visualizations for TensorBoard.\n",
        "* Model checkpoint with the **ModelCheckpoint Callback**.\n",
        "> `class ModelCheckpoint`: Callback to save the Keras model or model weights at some frequency. (at every epoch instead at the end of every training)\n",
        "* Stopping a model from training (before it trains too long and overfits) with the **EarlyStopping Callback**.\n",
        "> `class EarlyStopping`: Stop training when a monitored metric has stopped improving."
      ]
    },
    {
      "cell_type": "code",
      "metadata": {
        "id": "998o6XYmRrvs"
      },
      "source": [
        "# Lets create a function to Build a TensorFlow callback\n",
        "\n",
        "# Create TensorBoard Callback (functionized because we need to create a new one for each model)\n",
        "import datetime\n",
        "\n",
        "def create_tensorboard_callback (dir_name, experiment_name):\n",
        "  log_dir = dir_name + \"/\" + experiment_name + \"/\" + datetime.datetime.now().strftime(\"%Y%m%d-%H%M%S\")\n",
        "  tensorboard_callback = tf.keras.callbacks.TensorBoard(log_dir=log_dir)\n",
        "  print(f\"Saving TensorBoard log files to: {log_dir}\")\n",
        "  return tensorboard_callback"
      ],
      "execution_count": null,
      "outputs": []
    },
    {
      "cell_type": "markdown",
      "metadata": {
        "id": "Ei0U33EsTobK"
      },
      "source": [
        "## Creating models using TensorFlow Hub\n",
        "\n",
        "In the past we've used TensorFlow to create our own models layer by layer from scratch.\n",
        "\n",
        "Now we're going to do a similar process, except the majority of our model's layers are going to come from TensorFlow Hub.\n",
        "\n",
        "We can access pretrained models on: https://tfhub.dev/  \n",
        "\n",
        "**Resource:**  \n",
        "> https://paperswithcode.com/task/image-classification  \n",
        "> https://arxiv.org/abs/1905.11946\n",
        "\n",
        "Browsing the TensorFlow Hub page and sorting for image classification, we found the following feature vector model link: https://tfhub.dev/tensorflow/efficientnet/b0/feature-vector/1  \n",
        "\n",
        "\n"
      ]
    },
    {
      "cell_type": "code",
      "metadata": {
        "id": "-rDt93VSVBC8"
      },
      "source": [
        "# Let's compare the following two models\n",
        "resnet_url = \"https://tfhub.dev/google/imagenet/resnet_v2_50/feature_vector/5\"\n",
        "\n",
        "efficientnet_url = \"https://tfhub.dev/tensorflow/efficientnet/b0/feature-vector/1\""
      ],
      "execution_count": null,
      "outputs": []
    },
    {
      "cell_type": "code",
      "metadata": {
        "id": "ZS44dkQj1YAv"
      },
      "source": [
        "# Import dependencies\n",
        "import tensorflow as tf\n",
        "import tensorflow_hub as hub\n",
        "from tensorflow.keras import layers"
      ],
      "execution_count": null,
      "outputs": []
    },
    {
      "cell_type": "code",
      "metadata": {
        "colab": {
          "base_uri": "https://localhost:8080/"
        },
        "id": "voSgpZX83NPy",
        "outputId": "542685b7-1194-499a-e40e-7c02012595ba"
      },
      "source": [
        "IMAGE_SHAPE + (3,)"
      ],
      "execution_count": null,
      "outputs": [
        {
          "output_type": "execute_result",
          "data": {
            "text/plain": [
              "(224, 224, 3)"
            ]
          },
          "metadata": {},
          "execution_count": 8
        }
      ]
    },
    {
      "cell_type": "code",
      "metadata": {
        "id": "uY1nMrzL1jsw"
      },
      "source": [
        "# Let's make a create_model() function to create a model from URL\n",
        "def create_model(model_url, num_classes=10):\n",
        "  '''\n",
        "  Takes a TensorFlow Hub URL and creates a Keras Sequential model with it.\n",
        "\n",
        "  Args:\n",
        "    `model_url` (str): A TensorFlow Hub feature extraction URL.\n",
        "    `num_classes` (int): Number of output neurons in the output layer,\n",
        "      should be equal to number of target classes, Default = 10.\n",
        "\n",
        "  Returns:\n",
        "    An uncompiled Keras Sequential model with `model_url` as feature extractor          \n",
        "    layer and Dense output layer with `num_classes` output neurons.\n",
        "  '''\n",
        "\n",
        "  # Download the pre-trained model and save it as a Keras Layer\n",
        "  feature_extractor_layer = hub.KerasLayer(model_url,\n",
        "                                           trainable=False, # Freeze the already learned patterns\n",
        "                                           name=\"feature_extraction_layer\",\n",
        "                                           input_shape=IMAGE_SHAPE+(3,))\n",
        "\n",
        "  # Create our own model\n",
        "  model = tf.keras.Sequential([\n",
        "    feature_extractor_layer,\n",
        "    layers.Dense(num_classes, activation=\"softmax\", name=\"output_layer\")\n",
        "  ])\n",
        "\n",
        "  return model "
      ],
      "execution_count": null,
      "outputs": []
    },
    {
      "cell_type": "markdown",
      "metadata": {
        "id": "Rv2aYO473teB"
      },
      "source": [
        "### Creating and Testing ResNet TensorFlow Hub Feature Extraction Model"
      ]
    },
    {
      "cell_type": "code",
      "metadata": {
        "colab": {
          "base_uri": "https://localhost:8080/"
        },
        "id": "5Lay_Vwl5GUH",
        "outputId": "298c1d89-bc00-4733-d764-ca7baf35d31f"
      },
      "source": [
        "train_data_10_percent.num_classes"
      ],
      "execution_count": null,
      "outputs": [
        {
          "output_type": "execute_result",
          "data": {
            "text/plain": [
              "10"
            ]
          },
          "metadata": {},
          "execution_count": 10
        }
      ]
    },
    {
      "cell_type": "code",
      "metadata": {
        "id": "BDsmENy93sAs"
      },
      "source": [
        "# 1. Create Resnet model\n",
        "resnet_model = create_model(resnet_url,\n",
        "                            num_classes=train_data_10_percent.num_classes)"
      ],
      "execution_count": null,
      "outputs": []
    },
    {
      "cell_type": "code",
      "metadata": {
        "colab": {
          "base_uri": "https://localhost:8080/"
        },
        "id": "n30o33K74jkL",
        "outputId": "0dea7ddf-6121-4e61-8003-7cddea842559"
      },
      "source": [
        "resnet_model.summary()"
      ],
      "execution_count": null,
      "outputs": [
        {
          "output_type": "stream",
          "name": "stdout",
          "text": [
            "Model: \"sequential\"\n",
            "_________________________________________________________________\n",
            "Layer (type)                 Output Shape              Param #   \n",
            "=================================================================\n",
            "feature_extraction_layer (Ke (None, 2048)              23564800  \n",
            "_________________________________________________________________\n",
            "output_layer (Dense)         (None, 10)                20490     \n",
            "=================================================================\n",
            "Total params: 23,585,290\n",
            "Trainable params: 20,490\n",
            "Non-trainable params: 23,564,800\n",
            "_________________________________________________________________\n"
          ]
        }
      ]
    },
    {
      "cell_type": "code",
      "metadata": {
        "id": "Hhr0sWqv4-uU"
      },
      "source": [
        "# 2. Compile our resnet model\n",
        "resnet_model.compile(optimizer=tf.keras.optimizers.Adam(),\n",
        "                     loss=tf.keras.losses.CategoricalCrossentropy(),\n",
        "                     metrics=[\"accuracy\"])"
      ],
      "execution_count": null,
      "outputs": []
    },
    {
      "cell_type": "code",
      "metadata": {
        "colab": {
          "base_uri": "https://localhost:8080/"
        },
        "id": "A9Babsnn5Nuq",
        "outputId": "8b6f0083-5aa7-4962-cded-791026294298"
      },
      "source": [
        "# Let's fit our ResNet model to the data (10 percent of 10 classes)\n",
        "resnet_history = resnet_model.fit(train_data_10_percent,\n",
        "                                  epochs=5,\n",
        "                                  steps_per_epoch = len(train_data_10_percent),\n",
        "                                  validation_data=test_data,\n",
        "                                  validation_steps = len(test_data),\n",
        "                                  callbacks=[create_tensorboard_callback(dir_name=\"tensorflow_hub\",\n",
        "                                                                         experiment_name=\"resnet50v2\")])"
      ],
      "execution_count": null,
      "outputs": [
        {
          "output_type": "stream",
          "name": "stdout",
          "text": [
            "Saving TensorBoard log files to: tensorflow_hub/resnet50v2/20210906-051659\n",
            "Epoch 1/5\n",
            "24/24 [==============================] - 58s 1s/step - loss: 1.7824 - accuracy: 0.4120 - val_loss: 1.0976 - val_accuracy: 0.6748\n",
            "Epoch 2/5\n",
            "24/24 [==============================] - 22s 932ms/step - loss: 0.8508 - accuracy: 0.7587 - val_loss: 0.8318 - val_accuracy: 0.7408\n",
            "Epoch 3/5\n",
            "24/24 [==============================] - 22s 929ms/step - loss: 0.5962 - accuracy: 0.8187 - val_loss: 0.7265 - val_accuracy: 0.7632\n",
            "Epoch 4/5\n",
            "24/24 [==============================] - 22s 927ms/step - loss: 0.4605 - accuracy: 0.8800 - val_loss: 0.6780 - val_accuracy: 0.7772\n",
            "Epoch 5/5\n",
            "24/24 [==============================] - 22s 923ms/step - loss: 0.3630 - accuracy: 0.9187 - val_loss: 0.6503 - val_accuracy: 0.7848\n"
          ]
        }
      ]
    },
    {
      "cell_type": "markdown",
      "metadata": {
        "id": "i5LyNbbB8ylZ"
      },
      "source": [
        "Wow!  \n",
        "\n",
        "That. Is. Incredible. Our transfer learning feature extractor model outperformed ALL of the previous models we built by hand..(substantially) and in a quicker training time AND with only 10% of the training examples."
      ]
    },
    {
      "cell_type": "code",
      "metadata": {
        "id": "AMvVVAQQ9J1D"
      },
      "source": [
        "# Let's create a function to plot our loss curves\n",
        "# Tidbit: You could put a function like this into a script called \"helper.py\" and import it when you need it.\n",
        "\n",
        "import matplotlib.pyplot as plt\n",
        "\n",
        "# Plot the validation & training curves\n",
        "\n",
        "def plot_loss_curves(history):\n",
        "  '''\n",
        "  Returns seperate loss curves for training and validation metrics.\n",
        "\n",
        "  Args:\n",
        "    `history`: TensorFlow History object.\n",
        "\n",
        "  Returns:\n",
        "    Plots of training/validation loss and accuracy metrics.\n",
        "  '''\n",
        "\n",
        "  loss = history.history[\"loss\"]\n",
        "  val_loss = history.history[\"val_loss\"]\n",
        "\n",
        "  accuracy = history.history[\"accuracy\"]\n",
        "  val_accuracy = history.history[\"val_accuracy\"]\n",
        "\n",
        "  epochs = range(len(history.history[\"loss\"]))\n",
        "\n",
        "  # Plot loss\n",
        "  # plt.figure((2, 1, 1), figsize=(10, 7))\n",
        "  plt.plot(epochs, loss, label=\"training_loss\")\n",
        "  # plt.figure((2, 2, 2), figsize=(10, 7))\n",
        "  plt.plot(epochs, val_loss, label=\"val_loss\")\n",
        "  plt.title(\"Loss\")\n",
        "  plt.xlabel(\"Epochs\")\n",
        "  plt.legend()\n",
        "\n",
        "  # Plot accuracy\n",
        "  plt.figure()\n",
        "  plt.plot(epochs, accuracy, label=\"training_accuracy\")\n",
        "  plt.plot(epochs, val_accuracy, label=\"val_accuracy\")\n",
        "  plt.title(\"Accuracy\")\n",
        "  plt.xlabel(\"Epochs\")\n",
        "  plt.legend();\n",
        "\n"
      ],
      "execution_count": null,
      "outputs": []
    },
    {
      "cell_type": "code",
      "metadata": {
        "colab": {
          "base_uri": "https://localhost:8080/",
          "height": 573
        },
        "id": "b9ErTu51AD7B",
        "outputId": "545b01b3-2cb1-412f-f738-5777f7a23853"
      },
      "source": [
        "plot_loss_curves(resnet_history)"
      ],
      "execution_count": null,
      "outputs": [
        {
          "output_type": "display_data",
          "data": {
            "image/png": "[encoded data removed]",
            "text/plain": [
              "<Figure size 432x288 with 1 Axes>"
            ]
          },
          "metadata": {
            "needs_background": "light"
          }
        },
        {
          "output_type": "display_data",
          "data": {
            "image/png": "[encoded data removed]",
            "text/plain": [
              "<Figure size 432x288 with 1 Axes>"
            ]
          },
          "metadata": {
            "needs_background": "light"
          }
        }
      ]
    },
    {
      "cell_type": "markdown",
      "metadata": {
        "id": "r7u9ohRKBL0C"
      },
      "source": [
        "### Creating and Testing EfficientBo TensorFlow Hub Feature Extraction model"
      ]
    },
    {
      "cell_type": "markdown",
      "metadata": {
        "id": "mq9kXXVdNbKl"
      },
      "source": [
        "Details on EfficientNetB0: [Google AI Blog](https://ai.googleblog.com/2019/05/efficientnet-improving-accuracy-and.html)"
      ]
    },
    {
      "cell_type": "code",
      "metadata": {
        "colab": {
          "base_uri": "https://localhost:8080/"
        },
        "id": "4Nz62KNQBtAe",
        "outputId": "836c6b0c-b50c-4e16-d1e1-6ba3762f8301"
      },
      "source": [
        "# Set random seed\n",
        "tf.random.set_seed(42)\n",
        "\n",
        "# 1. Create EfficientNetB0 feature extractor model\n",
        "efficientnet_model = create_model(model_url = efficientnet_url,\n",
        "                                  num_classes=train_data_10_percent.num_classes)\n",
        "\n",
        "# 2. Compile the model\n",
        "efficientnet_model.compile(optimizer=tf.keras.optimizers.Adam(),\n",
        "                           loss=\"categorical_crossentropy\",\n",
        "                           metrics=[\"accuracy\"])\n",
        "\n",
        "EPOCHS =5\n",
        "\n",
        "# 3. Fit the EfficientNet model to 10% of the training data\n",
        "efficientnet_history = efficientnet_model.fit(train_data_10_percent,\n",
        "                                              epochs=EPOCHS,\n",
        "                                              validation_data=test_data,\n",
        "                                              steps_per_epoch=len(train_data_10_percent),\n",
        "                                              validation_steps=len(test_data),\n",
        "                                              callbacks=[create_tensorboard_callback(dir_name=\"tensorflow_hub\",\n",
        "                                                                                     experiment_name=\"efficientnetb0\")])"
      ],
      "execution_count": null,
      "outputs": [
        {
          "output_type": "stream",
          "name": "stdout",
          "text": [
            "Saving TensorBoard log files to: tensorflow_hub/efficientnetb0/20210906-051941\n",
            "Epoch 1/5\n",
            "24/24 [==============================] - 33s 1000ms/step - loss: 1.8043 - accuracy: 0.4680 - val_loss: 1.2501 - val_accuracy: 0.7412\n",
            "Epoch 2/5\n",
            "24/24 [==============================] - 19s 820ms/step - loss: 1.0327 - accuracy: 0.7800 - val_loss: 0.8391 - val_accuracy: 0.8240\n",
            "Epoch 3/5\n",
            "24/24 [==============================] - 19s 817ms/step - loss: 0.7417 - accuracy: 0.8467 - val_loss: 0.6813 - val_accuracy: 0.8460\n",
            "Epoch 4/5\n",
            "24/24 [==============================] - 25s 1s/step - loss: 0.5970 - accuracy: 0.8733 - val_loss: 0.5966 - val_accuracy: 0.8584\n",
            "Epoch 5/5\n",
            "24/24 [==============================] - 19s 808ms/step - loss: 0.5073 - accuracy: 0.8920 - val_loss: 0.5467 - val_accuracy: 0.8652\n"
          ]
        }
      ]
    },
    {
      "cell_type": "code",
      "metadata": {
        "colab": {
          "base_uri": "https://localhost:8080/",
          "height": 573
        },
        "id": "prqQqq5cM7Z3",
        "outputId": "bc81f8aa-c3dd-444b-cff2-786dd2d0e40b"
      },
      "source": [
        "plot_loss_curves(efficientnet_history)"
      ],
      "execution_count": null,
      "outputs": [
        {
          "output_type": "display_data",
          "data": {
            "image/png": "[encoded data removed]",
            "text/plain": [
              "<Figure size 432x288 with 1 Axes>"
            ]
          },
          "metadata": {
            "needs_background": "light"
          }
        },
        {
          "output_type": "display_data",
          "data": {
            "image/png": "[encoded data removed]",
            "text/plain": [
              "<Figure size 432x288 with 1 Axes>"
            ]
          },
          "metadata": {
            "needs_background": "light"
          }
        }
      ]
    },
    {
      "cell_type": "markdown",
      "metadata": {
        "id": "JnP9Fl-MO2Mt"
      },
      "source": [
        "The ideal scenario of these curves is to line up, and with further training, the model's performance will keep improving."
      ]
    },
    {
      "cell_type": "code",
      "metadata": {
        "colab": {
          "base_uri": "https://localhost:8080/"
        },
        "id": "gOHHmwhFO-2r",
        "outputId": "95851b3c-262d-4813-a368-9bd964b97d7f"
      },
      "source": [
        "efficientnet_model.summary()"
      ],
      "execution_count": null,
      "outputs": [
        {
          "output_type": "stream",
          "name": "stdout",
          "text": [
            "Model: \"sequential_1\"\n",
            "_________________________________________________________________\n",
            "Layer (type)                 Output Shape              Param #   \n",
            "=================================================================\n",
            "feature_extraction_layer (Ke (None, 1280)              4049564   \n",
            "_________________________________________________________________\n",
            "output_layer (Dense)         (None, 10)                12810     \n",
            "=================================================================\n",
            "Total params: 4,062,374\n",
            "Trainable params: 12,810\n",
            "Non-trainable params: 4,049,564\n",
            "_________________________________________________________________\n"
          ]
        }
      ]
    },
    {
      "cell_type": "code",
      "metadata": {
        "colab": {
          "base_uri": "https://localhost:8080/"
        },
        "id": "jSOUeZTkPUod",
        "outputId": "dc9b0810-56d3-4d3a-c443-c9380c334194"
      },
      "source": [
        "efficientnet_model.count_params()"
      ],
      "execution_count": null,
      "outputs": [
        {
          "output_type": "execute_result",
          "data": {
            "text/plain": [
              "4062374"
            ]
          },
          "metadata": {},
          "execution_count": 20
        }
      ]
    },
    {
      "cell_type": "code",
      "metadata": {
        "id": "TwLizPglPXc8"
      },
      "source": [
        "def count_params(model):\n",
        "\n",
        "  '''\n",
        "  Args:\n",
        "    `model`: Pass in TF model\n",
        "\n",
        "  Returns:\n",
        "  \n",
        "  Total Parameters,\n",
        "  Trainable Parameters,\n",
        "  Non-Trainable Parameters\n",
        "  '''\n",
        "\n",
        "  import tensorflow.keras.backend as K\n",
        "  import numpy as np\n",
        "\n",
        "  trainable_count = np.sum([K.count_params(w) for w in model.trainable_weights])\n",
        "  non_trainable_count = np.sum([K.count_params(w) for w in model.non_trainable_weights])\n",
        "\n",
        "  print(f\"Total params for: {(trainable_count + non_trainable_count):,}\")\n",
        "  print(f\"Trainable params: {trainable_count:,}\")\n",
        "  print(f\"Non-trainable params: {non_trainable_count:,}\")"
      ],
      "execution_count": null,
      "outputs": []
    },
    {
      "cell_type": "code",
      "metadata": {
        "colab": {
          "base_uri": "https://localhost:8080/"
        },
        "id": "38uWcgTJPxgr",
        "outputId": "e5b3aafc-ed6a-402a-9701-33faebb7cfb8"
      },
      "source": [
        "count_params(efficientnet_model)"
      ],
      "execution_count": null,
      "outputs": [
        {
          "output_type": "stream",
          "name": "stdout",
          "text": [
            "Total params for: 4,062,374\n",
            "Trainable params: 12,810\n",
            "Non-trainable params: 4,049,564\n"
          ]
        }
      ]
    },
    {
      "cell_type": "code",
      "metadata": {
        "colab": {
          "base_uri": "https://localhost:8080/"
        },
        "id": "qvdMeHHbQF7r",
        "outputId": "86150c99-ddb8-48d5-f928-384d9674ecd9"
      },
      "source": [
        "count_params(resnet_model)"
      ],
      "execution_count": null,
      "outputs": [
        {
          "output_type": "stream",
          "name": "stdout",
          "text": [
            "Total params for: 23,585,290\n",
            "Trainable params: 20,490\n",
            "Non-trainable params: 23,564,800\n"
          ]
        }
      ]
    },
    {
      "cell_type": "code",
      "metadata": {
        "colab": {
          "base_uri": "https://localhost:8080/"
        },
        "id": "Zis0ND0WWZfZ",
        "outputId": "213670c7-d6a6-4cb5-c8b0-ea3703f309d7"
      },
      "source": [
        "# How many layers does our effiecientnetb0 feature extractor have?\n",
        "len(efficientnet_model.layers[0].weights)"
      ],
      "execution_count": null,
      "outputs": [
        {
          "output_type": "execute_result",
          "data": {
            "text/plain": [
              "309"
            ]
          },
          "metadata": {},
          "execution_count": 24
        }
      ]
    },
    {
      "cell_type": "markdown",
      "metadata": {
        "id": "VYZP95NKUsKJ"
      },
      "source": [
        "## Different types of Transfer Learning\n",
        "\n",
        "* **As is** Transfer Learning - Using an existing model with no changes whatsoever (e.g using ImageNet model on 1000 ImageNet classes, none of your own)\n",
        "* **Feature Extraction** Transfer Learning - Use the preferred patterns of an existing model (e.g EfficientNetB0 trained on ImageNet) and adjust the output layer for your own problem (e.g 1000 classes of ImageNet -> 10 classes of Food)\n",
        "* **Fine-Tuning** Transfer Learning - Use the prelearned patterns of an existing model and *fine-tune* many or all of the underlying layers (including new output layers)  \n",
        "\n",
        "  * We might unfreeze some of the layers and update the parameters (weights) w/ our own custom dataset.  \n",
        "\n",
        "  * Typically requires more data than feature extraction\n",
        "\n"
      ]
    },
    {
      "cell_type": "markdown",
      "metadata": {
        "id": "y31VUq9OYUB4"
      },
      "source": [
        "## Comparing our models results using TensorBoard  \n",
        "\n",
        "* A way to **visually explore** your machine learning models performance and internals.  \n",
        "\n",
        "* Host, track and share your machine leraning experiments on **TensorBoard.dev**  \n",
        "\n",
        ">* 🔑 **Note:** When you upload the things to TensorBoard.dev, your experiments are public.  \n",
        ">\n",
        ">* So if you're running private experiments (things you don't want others to see) do not upload them to **TensorBoard.dev**"
      ]
    },
    {
      "cell_type": "code",
      "metadata": {
        "id": "jE0zaVzqdLCI",
        "colab": {
          "base_uri": "https://localhost:8080/"
        },
        "outputId": "31358ea4-41db-4692-9b5e-c988aaebd744"
      },
      "source": [
        "# Upload TensorBoard dev records\n",
        "!tensorboard dev upload --logdir ./tensorflow_hub/ \\\n",
        "  --name \"EfficientNetB0 vs. ResNet50V2\" \\\n",
        "  --description \"Comparing two different TF Hub Feature Extraction Model architectures using 10% of the training data\" \\\n",
        "  --one_shot"
      ],
      "execution_count": null,
      "outputs": [
        {
          "output_type": "stream",
          "name": "stdout",
          "text": [
            "2021-09-06 05:21:40.713221: I tensorflow/stream_executor/cuda/cuda_gpu_executor.cc:937] successful NUMA node read from SysFS had negative value (-1), but there must be at least one NUMA node, so returning NUMA node zero\n",
            "2021-09-06 05:21:40.735808: I tensorflow/stream_executor/cuda/cuda_gpu_executor.cc:937] successful NUMA node read from SysFS had negative value (-1), but there must be at least one NUMA node, so returning NUMA node zero\n",
            "2021-09-06 05:21:40.736365: I tensorflow/stream_executor/cuda/cuda_gpu_executor.cc:937] successful NUMA node read from SysFS had negative value (-1), but there must be at least one NUMA node, so returning NUMA node zero\n",
            "\n",
            "***** TensorBoard Uploader *****\n",
            "\n",
            "This will upload your TensorBoard logs to https://tensorboard.dev/ from\n",
            "the following directory:\n",
            "\n",
            "./tensorflow_hub/\n",
            "\n",
            "This TensorBoard will be visible to everyone. Do not upload sensitive\n",
            "data.\n",
            "\n",
            "Your use of this service is subject to Google's Terms of Service\n",
            "<https://policies.google.com/terms> and Privacy Policy\n",
            "<https://policies.google.com/privacy>, and TensorBoard.dev's Terms of Service\n",
            "<https://tensorboard.dev/policy/terms/>.\n",
            "\n",
            "This notice will not be shown again while you are logged into the uploader.\n",
            "To log out, run `tensorboard dev auth revoke`.\n",
            "\n",
            "Continue? (yes/NO) yes\n",
            "\n",
            "Please visit this URL to authorize this application: https://accounts.google.com/o/oauth2/auth?response_type=code&client_id=373649185512-8v619h5kft38l4456nm2dj4ubeqsrvh6.apps.googleusercontent.com&redirect_uri=urn%3Aietf%3Awg%3Aoauth%3A2.0%3Aoob&scope=openid+https%3A%2F%2Fwww.googleapis.com%2Fauth%2Fuserinfo.email&state=313R7siggfcht0fNZoflbH5mEwJPHA&prompt=consent&access_type=offline\n",
            "Enter the authorization code: 4/1AX4XfWhGqB1YL7vUMZcktDa3oJvQPhsWn5BsRf6yr5ttCzWfw2Q-sNvGS_Q\n",
            "\n",
            "\n",
            "New experiment created. View your TensorBoard at: https://tensorboard.dev/experiment/v6WRIGYKT1GdEWvfznwGAQ/\n",
            "\n",
            "\u001b[1m[2021-09-06T05:22:31]\u001b[0m Started scanning logdir.\n",
            "\u001b[1m[2021-09-06T05:22:35]\u001b[0m Total uploaded: 60 scalars, 0 tensors, 2 binary objects (5.7 MB)\n",
            "\u001b[1m[2021-09-06T05:22:35]\u001b[0m Done scanning logdir.\n",
            "\n",
            "\n",
            "Done. View your TensorBoard at https://tensorboard.dev/experiment/v6WRIGYKT1GdEWvfznwGAQ/\n"
          ]
        }
      ]
    },
    {
      "cell_type": "markdown",
      "metadata": {
        "id": "HIwhaQvQfi1B"
      },
      "source": [
        "Our TensorBoard experiments are uploaded publically here: https://tensorboard.dev/experiment/by17PCbOSBeqgh8LAFPz4g/"
      ]
    },
    {
      "cell_type": "code",
      "metadata": {
        "colab": {
          "base_uri": "https://localhost:8080/"
        },
        "id": "CcDOsIkCf_FU",
        "outputId": "99613818-a3cf-488c-ef34-61a9744baecb"
      },
      "source": [
        "# Check out what TensorBoard experiments you have\n",
        "!tensorboard dev list"
      ],
      "execution_count": null,
      "outputs": [
        {
          "output_type": "stream",
          "name": "stdout",
          "text": [
            "2021-09-06 05:22:38.530084: I tensorflow/stream_executor/cuda/cuda_gpu_executor.cc:937] successful NUMA node read from SysFS had negative value (-1), but there must be at least one NUMA node, so returning NUMA node zero\n",
            "2021-09-06 05:22:38.545252: I tensorflow/stream_executor/cuda/cuda_gpu_executor.cc:937] successful NUMA node read from SysFS had negative value (-1), but there must be at least one NUMA node, so returning NUMA node zero\n",
            "2021-09-06 05:22:38.545754: I tensorflow/stream_executor/cuda/cuda_gpu_executor.cc:937] successful NUMA node read from SysFS had negative value (-1), but there must be at least one NUMA node, so returning NUMA node zero\n",
            "https://tensorboard.dev/experiment/v6WRIGYKT1GdEWvfznwGAQ/\n",
            "\tName                 EfficientNetB0 vs. ResNet50V2\n",
            "\tDescription          Comparing two different TF Hub Feature Extraction Model architectures using 10% of the training data\n",
            "\tId                   v6WRIGYKT1GdEWvfznwGAQ\n",
            "\tCreated              2021-09-06 05:22:31 (14 seconds ago)\n",
            "\tUpdated              2021-09-06 05:22:35 (10 seconds ago)\n",
            "\tRuns                 4\n",
            "\tTags                 5\n",
            "\tScalars              60\n",
            "\tTensor bytes         0\n",
            "\tBinary object bytes  5962608\n",
            "https://tensorboard.dev/experiment/by17PCbOSBeqgh8LAFPz4g/\n",
            "\tName                 EfficientNetB0 vs. ResNet50V2\n",
            "\tDescription          Comparing two different TF Hub Feature Extraction Model architectures using 10% of the training data\n",
            "\tId                   by17PCbOSBeqgh8LAFPz4g\n",
            "\tCreated              2021-09-03 09:02:58\n",
            "\tUpdated              2021-09-03 09:03:00\n",
            "\tRuns                 4\n",
            "\tTags                 5\n",
            "\tScalars              60\n",
            "\tTensor bytes         0\n",
            "\tBinary object bytes  5962608\n",
            "https://tensorboard.dev/experiment/2Tqp0ysOTaabPALrYB99RA/\n",
            "\tName                 EfficientNetB0 vs. ResNet50V2\n",
            "\tDescription          Comparing two different TF Hub Feature Extraction Model architectures using 10% of the training data\n",
            "\tId                   2Tqp0ysOTaabPALrYB99RA\n",
            "\tCreated              2021-09-03 07:11:10\n",
            "\tUpdated              2021-09-03 07:11:13\n",
            "\tRuns                 4\n",
            "\tTags                 5\n",
            "\tScalars              60\n",
            "\tTensor bytes         0\n",
            "\tBinary object bytes  5962608\n",
            "Total: 3 experiment(s)\n"
          ]
        }
      ]
    },
    {
      "cell_type": "code",
      "metadata": {
        "id": "fSHOa1PGiMRU"
      },
      "source": [
        "# If you've uploaded private data and you want to delete the data\n",
        "# Delete an experiment\n",
        "# !tensorboard dev delete --experiment_id 2Tqp0ysOTaabPALrYB99RA"
      ],
      "execution_count": null,
      "outputs": []
    },
    {
      "cell_type": "code",
      "metadata": {
        "colab": {
          "base_uri": "https://localhost:8080/"
        },
        "id": "zEyWXD9yinbM",
        "outputId": "36bd70f4-1266-4954-f29b-ff07a4b0c4e8"
      },
      "source": [
        "# Confirm the deletion by rechecking what experiments you have left\n",
        "!tensorboard dev list"
      ],
      "execution_count": null,
      "outputs": [
        {
          "output_type": "stream",
          "name": "stdout",
          "text": [
            "2021-09-06 05:22:47.883163: I tensorflow/stream_executor/cuda/cuda_gpu_executor.cc:937] successful NUMA node read from SysFS had negative value (-1), but there must be at least one NUMA node, so returning NUMA node zero\n",
            "2021-09-06 05:22:47.891055: I tensorflow/stream_executor/cuda/cuda_gpu_executor.cc:937] successful NUMA node read from SysFS had negative value (-1), but there must be at least one NUMA node, so returning NUMA node zero\n",
            "2021-09-06 05:22:47.891591: I tensorflow/stream_executor/cuda/cuda_gpu_executor.cc:937] successful NUMA node read from SysFS had negative value (-1), but there must be at least one NUMA node, so returning NUMA node zero\n",
            "https://tensorboard.dev/experiment/v6WRIGYKT1GdEWvfznwGAQ/\n",
            "\tName                 EfficientNetB0 vs. ResNet50V2\n",
            "\tDescription          Comparing two different TF Hub Feature Extraction Model architectures using 10% of the training data\n",
            "\tId                   v6WRIGYKT1GdEWvfznwGAQ\n",
            "\tCreated              2021-09-06 05:22:31 (22 seconds ago)\n",
            "\tUpdated              2021-09-06 05:22:35 (18 seconds ago)\n",
            "\tRuns                 4\n",
            "\tTags                 5\n",
            "\tScalars              60\n",
            "\tTensor bytes         0\n",
            "\tBinary object bytes  5962608\n",
            "https://tensorboard.dev/experiment/by17PCbOSBeqgh8LAFPz4g/\n",
            "\tName                 EfficientNetB0 vs. ResNet50V2\n",
            "\tDescription          Comparing two different TF Hub Feature Extraction Model architectures using 10% of the training data\n",
            "\tId                   by17PCbOSBeqgh8LAFPz4g\n",
            "\tCreated              2021-09-03 09:02:58\n",
            "\tUpdated              2021-09-03 09:03:00\n",
            "\tRuns                 4\n",
            "\tTags                 5\n",
            "\tScalars              60\n",
            "\tTensor bytes         0\n",
            "\tBinary object bytes  5962608\n",
            "https://tensorboard.dev/experiment/2Tqp0ysOTaabPALrYB99RA/\n",
            "\tName                 EfficientNetB0 vs. ResNet50V2\n",
            "\tDescription          Comparing two different TF Hub Feature Extraction Model architectures using 10% of the training data\n",
            "\tId                   2Tqp0ysOTaabPALrYB99RA\n",
            "\tCreated              2021-09-03 07:11:10\n",
            "\tUpdated              2021-09-03 07:11:13\n",
            "\tRuns                 4\n",
            "\tTags                 5\n",
            "\tScalars              60\n",
            "\tTensor bytes         0\n",
            "\tBinary object bytes  5962608\n",
            "Total: 3 experiment(s)\n"
          ]
        }
      ]
    },
    {
      "cell_type": "code",
      "metadata": {
        "id": "Wao5Veeair4j"
      },
      "source": [
        ""
      ],
      "execution_count": null,
      "outputs": []
    }
  ]
}